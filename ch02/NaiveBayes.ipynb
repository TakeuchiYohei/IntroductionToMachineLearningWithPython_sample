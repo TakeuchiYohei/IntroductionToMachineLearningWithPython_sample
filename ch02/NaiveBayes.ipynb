{
 "cells": [
  {
   "cell_type": "markdown",
   "metadata": {},
   "source": [
    "# ナイーブベイズクラス分類器"
   ]
  },
  {
   "cell_type": "markdown",
   "metadata": {},
   "source": [
    "- 特徴\n",
    "\n",
    "```\n",
    "線形モデルに似たクラス分類器．\n",
    "訓練が線形モデルよりも高速．\n",
    "速度の代償として，汎化機能ではLogisticRegression, LinearSVCよりも僅かに劣る．\n",
    "\n",
    "高速で学習出来る理由として，クラスに対する統計値をここの特徴量ごとに集めてパラメータを学習するからである．\n",
    "```\n",
    "\n",
    "- 種類\n",
    "    - GaussianNB: 任意の連続値\n",
    "    - BernoulliNB: 二値データ\n",
    "    - MultinomialNB: カウントデータ"
   ]
  },
  {
   "cell_type": "code",
   "execution_count": 2,
   "metadata": {
    "collapsed": true
   },
   "outputs": [],
   "source": [
    "import numpy as np\n",
    "\n",
    "X = np.array([[0, 1, 0, 1],\n",
    "                        [1, 0, 1, 1],\n",
    "                        [0, 0, 0, 1],\n",
    "                        [1, 0, 1, 0]])\n",
    "\n",
    "y = np.array([0, 1, 0, 1])"
   ]
  },
  {
   "cell_type": "code",
   "execution_count": 3,
   "metadata": {},
   "outputs": [
    {
     "name": "stdout",
     "output_type": "stream",
     "text": [
      "Feature counts:\n",
      "{0: array([0, 1, 0, 2]), 1: array([2, 0, 2, 1])}\n"
     ]
    }
   ],
   "source": [
    "counts = {}\n",
    "for label in np.unique(y):\n",
    "    counts[label] = X[y == label].sum(axis=0)\n",
    "print(\"Feature counts:\\n{}\".format(counts))"
   ]
  },
  {
   "cell_type": "markdown",
   "metadata": {},
   "source": [
    "### 線形モデルの利点, 欠点, パラメータ\n",
    "\n",
    "- パラメータ\n",
    "\n",
    "```\n",
    "alpha: モデルの複雑さを制御する．\n",
    "alphaが大きいとスムーズになり，モデルの複雑さが減少する．\n",
    "\n",
    "GaussianNBは高次元データ，他の二つはテキストのようなカウントデータに対して用いられる．\n",
    "MultinomialNBよりBernoulliNBの方が若干性能がいいが，非ゼロ特徴量(大きなドキュメント)にはMultinomialNBが有効\n",
    "```"
   ]
  }
 ],
 "metadata": {
  "kernelspec": {
   "display_name": "Python 3",
   "language": "python",
   "name": "python3"
  },
  "language_info": {
   "codemirror_mode": {
    "name": "ipython",
    "version": 3
   },
   "file_extension": ".py",
   "mimetype": "text/x-python",
   "name": "python",
   "nbconvert_exporter": "python",
   "pygments_lexer": "ipython3",
   "version": "3.6.1"
  }
 },
 "nbformat": 4,
 "nbformat_minor": 2
}
